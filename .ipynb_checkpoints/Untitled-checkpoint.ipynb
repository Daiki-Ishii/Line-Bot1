{
 "cells": [
  {
   "cell_type": "code",
   "execution_count": 1,
   "metadata": {},
   "outputs": [
    {
     "name": "stdout",
     "output_type": "stream",
     "text": [
      "Requirement already satisfied: line-bot-sdk in /Users/ishiidaiki/anaconda3/lib/python3.7/site-packages (1.19.0)\n",
      "Requirement already satisfied: future in /Users/ishiidaiki/anaconda3/lib/python3.7/site-packages (from line-bot-sdk) (0.17.1)\n",
      "Requirement already satisfied: requests>=2.0 in /Users/ishiidaiki/anaconda3/lib/python3.7/site-packages (from line-bot-sdk) (2.21.0)\n",
      "Requirement already satisfied: idna<2.9,>=2.5 in /Users/ishiidaiki/anaconda3/lib/python3.7/site-packages (from requests>=2.0->line-bot-sdk) (2.8)\n",
      "Requirement already satisfied: certifi>=2017.4.17 in /Users/ishiidaiki/anaconda3/lib/python3.7/site-packages (from requests>=2.0->line-bot-sdk) (2019.3.9)\n",
      "Requirement already satisfied: urllib3<1.25,>=1.21.1 in /Users/ishiidaiki/anaconda3/lib/python3.7/site-packages (from requests>=2.0->line-bot-sdk) (1.24.1)\n",
      "Requirement already satisfied: chardet<3.1.0,>=3.0.2 in /Users/ishiidaiki/anaconda3/lib/python3.7/site-packages (from requests>=2.0->line-bot-sdk) (3.0.4)\n",
      "Note: you may need to restart the kernel to use updated packages.\n"
     ]
    }
   ],
   "source": [
    "pip install line-bot-sdk"
   ]
  },
  {
   "cell_type": "code",
   "execution_count": 6,
   "metadata": {},
   "outputs": [],
   "source": [
    "import json"
   ]
  },
  {
   "cell_type": "code",
   "execution_count": 22,
   "metadata": {},
   "outputs": [
    {
     "data": {
      "text/plain": [
       "'3sPGZz1vGGXxpvg3CXCabZwL+5sA6RNb07BV4E2atmosxYJzAL6OKI4/A++8sOoQaPWif+U45LOf72zoeB3jlP+ObxwTLdv7JKxr43zzo1dC3gLd4njOTvaPH+oagLBXA+ZSIjVbjmcQFe+5wVcr0gdB04t89/1O/w1cDnyilFU='"
      ]
     },
     "execution_count": 22,
     "metadata": {},
     "output_type": "execute_result"
    }
   ],
   "source": [
    "file = open('info.json','r')\n",
    "info = json.load(file)\n",
    "info['CHANNEL_ACCESS_TOKEN']"
   ]
  },
  {
   "cell_type": "code",
   "execution_count": 15,
   "metadata": {},
   "outputs": [],
   "source": [
    "from linebot import LineBotApi\n",
    "from linebot.models import TextSendMessage"
   ]
  },
  {
   "cell_type": "code",
   "execution_count": 25,
   "metadata": {
    "scrolled": true
   },
   "outputs": [],
   "source": [
    "CHANNEL_ACCESS_TOKEN = info['CHANNEL_ACCESS_TOKEN']\n",
    "line_bot_api = LineBotApi(CHANNEL_ACCESS_TOKEN)"
   ]
  },
  {
   "cell_type": "code",
   "execution_count": 33,
   "metadata": {},
   "outputs": [],
   "source": [
    "def main():\n",
    "    USER_ID = info['USER_ID']\n",
    "    messages = TextSendMessage(text=\"おはよう〜 \\n 朝だよ！\")\n",
    "    line_bot_api.push_message(USER_ID,messages)\n",
    "    \n",
    "if __name__ == \"__main__\":\n",
    "    main()"
   ]
  },
  {
   "cell_type": "code",
   "execution_count": null,
   "metadata": {},
   "outputs": [],
   "source": []
  },
  {
   "cell_type": "code",
   "execution_count": null,
   "metadata": {},
   "outputs": [],
   "source": []
  }
 ],
 "metadata": {
  "kernelspec": {
   "display_name": "Python 3",
   "language": "python",
   "name": "python3"
  },
  "language_info": {
   "codemirror_mode": {
    "name": "ipython",
    "version": 3
   },
   "file_extension": ".py",
   "mimetype": "text/x-python",
   "name": "python",
   "nbconvert_exporter": "python",
   "pygments_lexer": "ipython3",
   "version": "3.7.3"
  }
 },
 "nbformat": 4,
 "nbformat_minor": 2
}
